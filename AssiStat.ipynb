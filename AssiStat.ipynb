{
 "cells": [
  {
   "cell_type": "markdown",
   "id": "f7582b3b-6bf9-420c-90ce-57b5d86156de",
   "metadata": {},
   "source": [
    "Q1 Ans\n",
    "\n",
    "Mean , Mode and Median"
   ]
  },
  {
   "cell_type": "code",
   "execution_count": null,
   "id": "50fe34f8-bc72-4b29-80d6-26098c5c2157",
   "metadata": {},
   "outputs": [],
   "source": []
  },
  {
   "cell_type": "markdown",
   "id": "f082f095-e4fa-4012-8cc3-1929645d26f4",
   "metadata": {},
   "source": [
    "Q2 Ans\n",
    "\n",
    "Mean is the Average Value of the teh Data set , Mode is the Repeted Frequency of the value means how many times the vlaue is repeated (NO. of times Value occured, while Median is the Middle value of the data set it's used in analysis when we have outliers in the data set this makes the mean value soo high whil in the case of median, outliers didn't affects too much \n",
    "\n",
    "It help us to analysis the data to get the Conclusion Based Numeric Value\n",
    "In Mean we take avarage of the data set\n",
    "In Median We Take middle value > in case of ODD data we have Exect Value, in case of EVEN Value we use 2 middle values to get median\n",
    "In Mode we Check the Count of the Values"
   ]
  },
  {
   "cell_type": "code",
   "execution_count": null,
   "id": "44055916-65d0-49f6-bf59-7d4d2fdc1ec4",
   "metadata": {},
   "outputs": [],
   "source": []
  },
  {
   "cell_type": "markdown",
   "id": "bd163b9f-f350-4c5b-8032-d436f089c1d6",
   "metadata": {},
   "source": [
    "Q3 Ans"
   ]
  },
  {
   "cell_type": "code",
   "execution_count": 12,
   "id": "e7255539-e3f7-4682-a18e-6209c884fd20",
   "metadata": {},
   "outputs": [],
   "source": [
    "import numpy as np\n",
    "from scipy import stats"
   ]
  },
  {
   "cell_type": "code",
   "execution_count": 12,
   "id": "0397b6a2-bcc7-4164-a25c-dbb0a8443bbe",
   "metadata": {},
   "outputs": [],
   "source": [
    "data = [178,177,176,177,178.2,178,175,179,180,175,178.9,176.2,177,172.5,178,176.5]"
   ]
  },
  {
   "cell_type": "code",
   "execution_count": 4,
   "id": "fb2b40d3-a3ce-4d73-ae60-9bcf4d8784ae",
   "metadata": {},
   "outputs": [
    {
     "data": {
      "text/plain": [
       "177.01875"
      ]
     },
     "execution_count": 4,
     "metadata": {},
     "output_type": "execute_result"
    }
   ],
   "source": [
    "np.mean(data)"
   ]
  },
  {
   "cell_type": "code",
   "execution_count": 7,
   "id": "f43b0c89-8404-46a1-a4d9-d36ced3f7fbf",
   "metadata": {},
   "outputs": [
    {
     "data": {
      "text/plain": [
       "177.0"
      ]
     },
     "execution_count": 7,
     "metadata": {},
     "output_type": "execute_result"
    }
   ],
   "source": [
    "np.median(data)"
   ]
  },
  {
   "cell_type": "code",
   "execution_count": 16,
   "id": "323c340a-e378-45b6-98b4-9452670def47",
   "metadata": {},
   "outputs": [
    {
     "name": "stderr",
     "output_type": "stream",
     "text": [
      "/tmp/ipykernel_295/3267261142.py:1: FutureWarning: Unlike other reduction functions (e.g. `skew`, `kurtosis`), the default behavior of `mode` typically preserves the axis it acts along. In SciPy 1.11.0, this behavior will change: the default value of `keepdims` will become False, the `axis` over which the statistic is taken will be eliminated, and the value None will no longer be accepted. Set `keepdims` to True or False to avoid this warning.\n",
      "  stats.mode(data)\n"
     ]
    },
    {
     "data": {
      "text/plain": [
       "ModeResult(mode=array([177.]), count=array([3]))"
      ]
     },
     "execution_count": 16,
     "metadata": {},
     "output_type": "execute_result"
    }
   ],
   "source": [
    "stats.mode(data)"
   ]
  },
  {
   "cell_type": "code",
   "execution_count": null,
   "id": "dca9543c-84ec-4b1a-baea-f13053462a92",
   "metadata": {},
   "outputs": [],
   "source": []
  },
  {
   "cell_type": "markdown",
   "id": "a73e53e1-541f-4c9b-ae39-32cd96d35a19",
   "metadata": {},
   "source": [
    "Q4. Ans"
   ]
  },
  {
   "cell_type": "code",
   "execution_count": 18,
   "id": "deed7921-e219-40c8-b734-bab0e054dda2",
   "metadata": {},
   "outputs": [],
   "source": [
    "data2 = [178,177,176,177,178.2,178,175,179,180,175,178.9,176.2,177,172.5,178,176.5]"
   ]
  },
  {
   "cell_type": "code",
   "execution_count": 19,
   "id": "3467ec8a-750e-4815-836a-85e9bc276597",
   "metadata": {},
   "outputs": [
    {
     "data": {
      "text/plain": [
       "3.199023437500001"
      ]
     },
     "execution_count": 19,
     "metadata": {},
     "output_type": "execute_result"
    }
   ],
   "source": [
    "np.var(data2)"
   ]
  },
  {
   "cell_type": "code",
   "execution_count": 21,
   "id": "e16b04d1-a24a-4420-84bc-6b108db56673",
   "metadata": {},
   "outputs": [
    {
     "data": {
      "text/plain": [
       "1.7885814036548633"
      ]
     },
     "execution_count": 21,
     "metadata": {},
     "output_type": "execute_result"
    }
   ],
   "source": [
    "np.std(data2)"
   ]
  },
  {
   "cell_type": "code",
   "execution_count": null,
   "id": "3a321f24-a1fd-4f53-894a-0de4cfc365ec",
   "metadata": {},
   "outputs": [],
   "source": []
  },
  {
   "cell_type": "markdown",
   "id": "77ba128b-0dc7-4eb3-8302-79f9e2a5c2cb",
   "metadata": {},
   "source": [
    "Q7. Ans."
   ]
  },
  {
   "cell_type": "markdown",
   "id": "53369d42-91f6-43c9-97ba-1bac775398e1",
   "metadata": {},
   "source": [
    "A = (2,3,4,5,6,7) \n",
    "\n",
    "B = (0,2,6,8,10)"
   ]
  },
  {
   "cell_type": "markdown",
   "id": "d765b157-031e-4ec1-b9b3-5c66120ec5c3",
   "metadata": {},
   "source": [
    "A intersection B is {2,6}\n",
    "\n",
    "A union B is {0,2,3,4,5,6,7,8,10}"
   ]
  },
  {
   "cell_type": "code",
   "execution_count": null,
   "id": "82affcf9-1cf6-4696-86ad-62e8c28e7d6c",
   "metadata": {},
   "outputs": [],
   "source": []
  },
  {
   "cell_type": "markdown",
   "id": "6f09b2ad-d5c3-4c05-928b-eaa7614956fd",
   "metadata": {},
   "source": [
    "Q5.) ans\n",
    "\n",
    "Measures of dispersion, such as range, variance, and standard deviation, are used to describe the spread or variability of a dataset. These measures provide information about how the data points are distributed around the central tendency \n",
    "\n",
    "The range is the simplest measure of dispersion and represents the difference between the maximum and minimum values in a dataset. It gives an idea of the total spread of the data. it only considers two extreme values and may not accurately represent the distribution of values within the dataset.\n",
    "\n",
    "For example, The following dataset representing the daily temperatures in degrees Celsius: {10, 12, 11, 9, 14}. The range caculated by taking Maximum and minimum Value is 5. the range suggests that the temperatures in this dataset vary by 5 degrees Celsius. Which is not\n",
    "\n",
    "\n",
    "The variance measures the average squared deviation of each data point from the mean, considering the dispersion of all the values in the dataset. A higher variance indicates a greater spread of data points, while a lower variance suggests a more clustered or less spread-out dataset.\n",
    "example, using the same Data set of Degree Variance is 2.96\n",
    "\n",
    "The standard deviation is the square root of the variance and is often used as a more intuitive measure of dispersion. It represents the average distance between each data point and the mean. Like the variance, a higher standard deviation indicates a greater spread of data points"
   ]
  },
  {
   "cell_type": "code",
   "execution_count": 2,
   "id": "395c36b7-f4cc-4c41-be58-f72e62d77bf6",
   "metadata": {},
   "outputs": [],
   "source": [
    "data3 = [10, 12, 11, 9, 14]"
   ]
  },
  {
   "cell_type": "code",
   "execution_count": 4,
   "id": "e411478a-c479-49ff-8a38-44c8bb5fa1f4",
   "metadata": {},
   "outputs": [
    {
     "data": {
      "text/plain": [
       "11.2"
      ]
     },
     "execution_count": 4,
     "metadata": {},
     "output_type": "execute_result"
    }
   ],
   "source": [
    "np.mean(data3)"
   ]
  },
  {
   "cell_type": "code",
   "execution_count": 11,
   "id": "4ce3d10f-088b-41d2-83db-afbd030ebde0",
   "metadata": {},
   "outputs": [
    {
     "data": {
      "text/plain": [
       "2.96"
      ]
     },
     "execution_count": 11,
     "metadata": {},
     "output_type": "execute_result"
    }
   ],
   "source": [
    "np.var(data3)"
   ]
  },
  {
   "cell_type": "code",
   "execution_count": null,
   "id": "330c73e0-bec7-4b36-83f0-7534621ddc1d",
   "metadata": {},
   "outputs": [],
   "source": []
  },
  {
   "cell_type": "markdown",
   "id": "e927c8a4-0da8-4897-b63a-6758b79bb4c0",
   "metadata": {},
   "source": [
    "Q6.) ans"
   ]
  },
  {
   "cell_type": "markdown",
   "id": "f499c775-6330-41dc-b539-8f7bf2729b0b",
   "metadata": {},
   "source": [
    "A Venn diagram is a visual representation of the relationships between different sets of elements. It uses overlapping circles or other shapes to illustrate the commonalities and differences between the sets. Each circle represents a set, and the overlapping regions represent the elements that belong to multiple sets."
   ]
  },
  {
   "cell_type": "code",
   "execution_count": null,
   "id": "148d72f6-1e70-4980-a471-80c6489e473a",
   "metadata": {},
   "outputs": [],
   "source": []
  },
  {
   "cell_type": "markdown",
   "id": "adc1ff4e-69da-4386-a052-7168bdea9e0a",
   "metadata": {},
   "source": [
    "Q8.) Ans\n",
    "\n",
    "Skewness in data refers to the asymmetry or lack of symmetry in the distribution of values.Skewness helps us understand the shape of the distribution and the concentration of values on either side of the central tendency.(mean,mode,median) if its skewed it will have Bell curve\n",
    "\n",
    "Two types of Skwe (+)ive and (-)ive \n",
    "\n",
    "In a positively skewed distribution, also known as right-skewed, the tail of the distribution extends more towards the right side. This means that there are more extreme values or outliers on the right side of the distribution, and the majority of the data points are concentrated towards the lower end.\n",
    "\n",
    "In a negatively skewed distribution, also known as left-skewed, the tail of the distribution extends more towards the left side. This indicates that there are more extreme values or outliers on the left side of the distribution, and the majority of the data points are concentrated towards the higher end.\n",
    "\n"
   ]
  },
  {
   "cell_type": "code",
   "execution_count": null,
   "id": "d444186b-3abf-4bd8-b49c-484e7c516db9",
   "metadata": {},
   "outputs": [],
   "source": []
  },
  {
   "cell_type": "markdown",
   "id": "6c531220-8dfa-4777-8326-41787918a9fc",
   "metadata": {},
   "source": [
    "Q9.) Ans\n",
    "\n",
    "The position of median will be to the left of the mean"
   ]
  },
  {
   "cell_type": "code",
   "execution_count": null,
   "id": "ee44581b-e452-442d-81a1-c1798d63eea8",
   "metadata": {},
   "outputs": [],
   "source": []
  },
  {
   "cell_type": "markdown",
   "id": "4442afcb-7f8d-4b29-be8c-612f854f430b",
   "metadata": {},
   "source": [
    "Q10.) ans\n",
    "\n",
    "Covariance measures the degree to which two variables vary together. it tells about the type of relationship btw the two variables, A positive covariance suggests that as one variable increases, the other increase as well, while a negative covariance indicates that as one variable increases, the other decrease. \n",
    "\n",
    "Correlation, on the other hand, measures the strength and direction of the linear relationship between two variables, It tell about the realionship btw 2 variable that are measured at the same interval. but it is value falls within the range of -1 to +1. \n",
    "\n",
    "Covariance and correlation help to measure the strength of relationships between variables. They are used to calculate how changes in one variable are connected with changes in another variable. \n"
   ]
  },
  {
   "cell_type": "code",
   "execution_count": null,
   "id": "ccd40e63-2040-4ad2-9d23-6a9018637aa5",
   "metadata": {},
   "outputs": [],
   "source": []
  },
  {
   "cell_type": "markdown",
   "id": "568c95fe-3da5-4d04-9551-5f4c49fe50b7",
   "metadata": {},
   "source": [
    "Q11.)  Ans\n",
    "\n",
    "\n",
    "Sample mean denoted by (n)\n",
    "Formula is Sample Mean (x̄) = (Sum of all data points) / (Number of data points)\n",
    "It's same as the Population Mean\n",
    "Example\n"
   ]
  },
  {
   "cell_type": "code",
   "execution_count": 13,
   "id": "0674a8fa-ad43-4f88-b6ba-6495cbc9e35b",
   "metadata": {},
   "outputs": [],
   "source": [
    "data4 = [165, 170, 175, 160, 180]"
   ]
  },
  {
   "cell_type": "code",
   "execution_count": 14,
   "id": "a7a50766-9c01-4060-bc64-7094da78308c",
   "metadata": {},
   "outputs": [
    {
     "data": {
      "text/plain": [
       "170.0"
      ]
     },
     "execution_count": 14,
     "metadata": {},
     "output_type": "execute_result"
    }
   ],
   "source": [
    "np.mean(data4)"
   ]
  },
  {
   "cell_type": "markdown",
   "id": "38428992-c6a3-444f-96e1-6b0ed05a19bb",
   "metadata": {},
   "source": [
    "The sample mean of this dataset is 170 centimeters. This means that the average height of individual in data set is 170 centimeters."
   ]
  },
  {
   "cell_type": "code",
   "execution_count": null,
   "id": "8c893196-c72a-49f1-967e-11dfd238bc07",
   "metadata": {},
   "outputs": [],
   "source": []
  },
  {
   "cell_type": "markdown",
   "id": "43172d4f-d42d-43db-98b3-251454bfb2c2",
   "metadata": {},
   "source": [
    "Q12.) Ans\n",
    "\n",
    "The mean,mode,median will be at the center of the distribution"
   ]
  },
  {
   "cell_type": "code",
   "execution_count": null,
   "id": "b4b0e3b6-69be-4d26-9090-7c458876d066",
   "metadata": {},
   "outputs": [],
   "source": []
  },
  {
   "cell_type": "markdown",
   "id": "889e521f-2048-4d63-aaed-484613b43997",
   "metadata": {},
   "source": [
    "Q13.) Ans\n",
    "\n",
    "Covariance is scale-dependent, meaning it is influenced by the units of measurement of the variables. Correlation, on the other hand, is scale-independent. It is value falls within the range of -1 to +1. A correlation of +1 indicates a perfect positive linear relationship, -1 indicates a perfect negative linear relationship, and 0 indicates no linear relationship. A positive covariance indicates a positive relationship, while a negative covariance indicates a negative relationship. \n",
    "\n",
    "Covariance only measures the direction (positive or negative) and the extent to which two variables vary together. Correlation measures both the direction and the strength of the linear relationship between variables. "
   ]
  },
  {
   "cell_type": "code",
   "execution_count": null,
   "id": "ea5d23c6-f741-4857-9570-8c0e6786daa3",
   "metadata": {},
   "outputs": [],
   "source": []
  },
  {
   "cell_type": "markdown",
   "id": "50e43fb1-5045-4d28-8650-5bd999f71142",
   "metadata": {},
   "source": [
    "Q14.) Ans\n",
    "\n",
    "Outliers affect mean but not affect median \n",
    "Example"
   ]
  },
  {
   "cell_type": "code",
   "execution_count": 28,
   "id": "bd3bc6e3-0a22-4508-acea-3b291276f20f",
   "metadata": {},
   "outputs": [],
   "source": [
    "Data5 = [400, 450, 500, 550, 600]"
   ]
  },
  {
   "cell_type": "code",
   "execution_count": 31,
   "id": "c143a15f-695e-4bc2-8842-b54e2158b845",
   "metadata": {},
   "outputs": [
    {
     "data": {
      "text/plain": [
       "500.0"
      ]
     },
     "execution_count": 31,
     "metadata": {},
     "output_type": "execute_result"
    }
   ],
   "source": [
    "np.mean(Data5)"
   ]
  },
  {
   "cell_type": "code",
   "execution_count": 32,
   "id": "dad7da2a-7aa4-4f24-bec6-7e4d848a769e",
   "metadata": {},
   "outputs": [
    {
     "data": {
      "text/plain": [
       "500.0"
      ]
     },
     "execution_count": 32,
     "metadata": {},
     "output_type": "execute_result"
    }
   ],
   "source": [
    "np.median(Data5)"
   ]
  },
  {
   "cell_type": "code",
   "execution_count": 33,
   "id": "6315ea54-7c17-4c07-9dba-3e222d9e40b1",
   "metadata": {},
   "outputs": [],
   "source": [
    "#with outliers\n",
    "data5 = [400, 450, 500, 550, 600, 2000]"
   ]
  },
  {
   "cell_type": "code",
   "execution_count": 34,
   "id": "8057c8a7-f041-4368-8a31-8ee6e01c88de",
   "metadata": {},
   "outputs": [
    {
     "data": {
      "text/plain": [
       "750.0"
      ]
     },
     "execution_count": 34,
     "metadata": {},
     "output_type": "execute_result"
    }
   ],
   "source": [
    "np.mean(data5) #mean changed too much with outliers"
   ]
  },
  {
   "cell_type": "code",
   "execution_count": 35,
   "id": "60a8836e-4606-4551-af46-9f14a0184c0c",
   "metadata": {},
   "outputs": [
    {
     "data": {
      "text/plain": [
       "525.0"
      ]
     },
     "execution_count": 35,
     "metadata": {},
     "output_type": "execute_result"
    }
   ],
   "source": [
    "np.median(data5) #wiht outliers median does't change much "
   ]
  },
  {
   "cell_type": "markdown",
   "id": "630d7b99-878d-4b2a-bc3b-7b708ef39577",
   "metadata": {},
   "source": [
    "The range becomes skewed by the outlier, making it an unreliable measure of spread. In our example, the presence of the outlier would increase both the variance and standard deviation, resulting in larger values. This would indicate higher variability in the dataset, but it may not accurately represent the spread of the majority of the values."
   ]
  },
  {
   "cell_type": "code",
   "execution_count": null,
   "id": "58c66275-ebb4-4cd2-8aea-2c3569abeab7",
   "metadata": {},
   "outputs": [],
   "source": []
  }
 ],
 "metadata": {
  "kernelspec": {
   "display_name": "Python 3 (ipykernel)",
   "language": "python",
   "name": "python3"
  },
  "language_info": {
   "codemirror_mode": {
    "name": "ipython",
    "version": 3
   },
   "file_extension": ".py",
   "mimetype": "text/x-python",
   "name": "python",
   "nbconvert_exporter": "python",
   "pygments_lexer": "ipython3",
   "version": "3.10.8"
  }
 },
 "nbformat": 4,
 "nbformat_minor": 5
}
